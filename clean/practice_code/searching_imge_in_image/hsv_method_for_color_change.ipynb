{
 "cells": [
  {
   "cell_type": "code",
   "execution_count": 37,
   "metadata": {},
   "outputs": [
    {
     "name": "stdout",
     "output_type": "stream",
     "text": [
      "l_b  [ 0  0 78]\n",
      "u_b  [255 255 208]\n"
     ]
    }
   ],
   "source": [
    "\n",
    "\n",
    "#HSV hue saturationn value\n",
    "# by changing the value you can get any color of the object.\n",
    "# adding this \n",
    "# # Change image to red where we found brown\n",
    "# image[mask>0]=(0,0,255)\n",
    "\n",
    "\n",
    "import cv2 \n",
    "import numpy as np \n",
    "def nothing(x):\n",
    "    pass\n",
    "cv2.namedWindow(\"tracker\")\n",
    "cv2.createTrackbar('LH', 'tracker',0,255,nothing)\n",
    "cv2.createTrackbar('LS', 'tracker',0,255,nothing)\n",
    "cv2.createTrackbar('LV', 'tracker',0,255,nothing)\n",
    "\n",
    "cv2.createTrackbar('UH', 'tracker',255,255,nothing)\n",
    "cv2.createTrackbar('US', 'tracker',255,255,nothing)\n",
    "cv2.createTrackbar('UV', 'tracker',255,255,nothing)\n",
    "\n",
    "\n",
    "while True:\n",
    "    frame=cv2.imread('eyes.png',1)  # add image \n",
    "    \n",
    "#     l_b=np.array([110,50,50])#lower bound\n",
    "#     u_b=np.array([130,250,250])#upper bound\n",
    "    \n",
    "    l_h=cv2.getTrackbarPos(\"LH\",\"tracker\")\n",
    "    l_s=cv2.getTrackbarPos(\"LS\",\"tracker\")\n",
    "    l_V=cv2.getTrackbarPos(\"LV\",\"tracker\")\n",
    "    \n",
    "    \n",
    "    \n",
    "    u_h=cv2.getTrackbarPos(\"UH\",\"tracker\")\n",
    "    u_s=cv2.getTrackbarPos(\"US\",\"tracker\")\n",
    "    u_V=cv2.getTrackbarPos(\"UV\",\"tracker\")\n",
    "    \n",
    "    l_b=np.array([l_h,l_s,l_V])#lower bound\n",
    "    u_b=np.array([u_h,u_s,u_V])#upper  bound\n",
    "    \n",
    "    hsv=cv2.cvtColor(frame,cv2.COLOR_BGR2HSV)\n",
    "    mask=cv2.inRange(hsv,l_b,u_b) \n",
    "    res=cv2.bitwise_and(frame,frame,mask=mask)\n",
    "#     res[mask==255]=(0,0,255)\n",
    "\n",
    "    cv2.imshow('frame',frame)\n",
    "    cv2.imshow('mask',mask)\n",
    "    cv2.imshow('res',res)\n",
    "    if cv2.waitKey(1)& 0xFF ==27:\n",
    "        break\n",
    "cv2.destroyAllWindows()\n",
    "print(\"l_b \", l_b)\n",
    "print(\"u_b \", u_b)\n",
    "\n"
   ]
  },
  {
   "cell_type": "code",
   "execution_count": 4,
   "metadata": {},
   "outputs": [
    {
     "name": "stdout",
     "output_type": "stream",
     "text": [
      "Collecting opencv-python\n",
      "  Using cached opencv_python-4.6.0.66-cp36-abi3-win_amd64.whl (35.6 MB)\n",
      "Collecting numpy>=1.19.3\n",
      "  Using cached numpy-1.23.1-cp310-cp310-win_amd64.whl (14.6 MB)\n",
      "Installing collected packages: numpy, opencv-python\n",
      "Successfully installed numpy-1.23.1 opencv-python-4.6.0.66\n"
     ]
    },
    {
     "name": "stderr",
     "output_type": "stream",
     "text": [
      "WARNING: You are using pip version 22.0.4; however, version 22.1.2 is available.\n",
      "You should consider upgrading via the 'C:\\Users\\pk\\AppData\\Local\\Programs\\Python\\Python310\\python.exe -m pip install --upgrade pip' command.\n"
     ]
    },
    {
     "name": "stdout",
     "output_type": "stream",
     "text": [
      "Collecting matplotlib\n",
      "  Using cached matplotlib-3.5.2-cp310-cp310-win_amd64.whl (7.2 MB)\n",
      "Collecting kiwisolver>=1.0.1\n",
      "  Using cached kiwisolver-1.4.3-cp310-cp310-win_amd64.whl (55 kB)\n",
      "Requirement already satisfied: numpy>=1.17 in c:\\users\\pk\\appdata\\local\\programs\\python\\python310\\lib\\site-packages (from matplotlib) (1.23.1)\n",
      "Collecting packaging>=20.0\n",
      "  Using cached packaging-21.3-py3-none-any.whl (40 kB)\n",
      "Collecting pyparsing>=2.2.1\n",
      "  Using cached pyparsing-3.0.9-py3-none-any.whl (98 kB)\n",
      "Collecting pillow>=6.2.0\n",
      "  Using cached Pillow-9.2.0-cp310-cp310-win_amd64.whl (3.3 MB)\n",
      "Collecting python-dateutil>=2.7\n",
      "  Using cached python_dateutil-2.8.2-py2.py3-none-any.whl (247 kB)\n",
      "Collecting cycler>=0.10\n",
      "  Using cached cycler-0.11.0-py3-none-any.whl (6.4 kB)\n",
      "Collecting fonttools>=4.22.0\n",
      "  Using cached fonttools-4.34.4-py3-none-any.whl (944 kB)\n",
      "Collecting six>=1.5\n",
      "  Using cached six-1.16.0-py2.py3-none-any.whl (11 kB)\n",
      "Installing collected packages: six, pyparsing, pillow, kiwisolver, fonttools, cycler, python-dateutil, packaging, matplotlib\n",
      "Successfully installed cycler-0.11.0 fonttools-4.34.4 kiwisolver-1.4.3 matplotlib-3.5.2 packaging-21.3 pillow-9.2.0 pyparsing-3.0.9 python-dateutil-2.8.2 six-1.16.0\n"
     ]
    },
    {
     "name": "stderr",
     "output_type": "stream",
     "text": [
      "WARNING: You are using pip version 22.0.4; however, version 22.1.2 is available.\n",
      "You should consider upgrading via the 'C:\\Users\\pk\\AppData\\Local\\Programs\\Python\\Python310\\python.exe -m pip install --upgrade pip' command.\n"
     ]
    }
   ],
   "source": [
    "!pip install opencv-python\n",
    "!pip install matplotlib"
   ]
  },
  {
   "cell_type": "code",
   "execution_count": 36,
   "metadata": {},
   "outputs": [
    {
     "data": {
      "text/plain": [
       "True"
      ]
     },
     "execution_count": 36,
     "metadata": {},
     "output_type": "execute_result"
    }
   ],
   "source": [
    "#!/usr/local/bin/python3\n",
    "import cv2 as cv\n",
    "import numpy as np\n",
    "\n",
    "# Load the aerial image and convert to HSV colourspace\n",
    "image = cv.imread(\"eyes.png\", 1)\n",
    "hsv=cv.cvtColor(image,cv.COLOR_BGR2HSV)\n",
    "\n",
    "# Define lower and uppper limits of what we call \"brown\"\n",
    "brown_lo=np.array([111,   0, 113])\n",
    "brown_hi=np.array([149, 226, 255])\n",
    "\n",
    "# Mask image to only select browns\n",
    "mask=cv.inRange(hsv,brown_lo,brown_hi)\n",
    "\n",
    "# Change image to red where we found brown\n",
    "image[mask==255]=(0,255,0)\n",
    "\n",
    "cv.imwrite(\"result.png\",image)"
   ]
  },
  {
   "cell_type": "code",
   "execution_count": 39,
   "metadata": {},
   "outputs": [],
   "source": [
    "import cv2\n",
    "import numpy as np\n",
    "\n",
    "# load image with alpha channel\n",
    "img = cv2.imread('eyes2.png', cv2.IMREAD_UNCHANGED)\n",
    "\n",
    "# extract alpha channel\n",
    "alpha = img[:,:,3]\n",
    "\n",
    "# extract bgr channels\n",
    "bgr = img[:,:,0:3]\n",
    "hsv=cv2.cvtColor(img,cv2.COLOR_BGR2HSV)\n",
    "\n",
    "# select purple\n",
    "lower_purple = (0,  0, 78)\n",
    "upper_purple = (255, 255, 208)\n",
    "mask = cv2.inRange(hsv, lower_purple, upper_purple)\n",
    "\n",
    "# change the image to make it green where the mask is white\n",
    "bgr_new = bgr.copy()\n",
    "bgr_new[mask==255] = (23,255,1)\n",
    "\n",
    "# put alpha back into rgb_new\n",
    "bgra = cv2.cvtColor(bgr_new, cv2.COLOR_BGR2BGRA)\n",
    "bgra[:,:,3] = alpha\n",
    "\n",
    "# save output\n",
    "cv2.imwrite('sword_alpha.png', alpha)\n",
    "cv2.imwrite('sword_bgr.png', bgr)\n",
    "cv2.imwrite('sword_mask.png', mask)\n",
    "cv2.imwrite('sword_masked_green.png', bgr_new)\n",
    "cv2.imwrite('sword_green.png', bgra)\n",
    "\n",
    "\n",
    "# Display various images to see the steps\n",
    "cv2.imshow('alpha',alpha)\n",
    "cv2.imshow('mask',mask)\n",
    "cv2.imshow('bgr_new',bgr_new)\n",
    "cv2.imshow('bgra',bgra)\n",
    "cv2.waitKey(0)\n",
    "cv2.destroyAllWindows()"
   ]
  },
  {
   "cell_type": "code",
   "execution_count": null,
   "metadata": {},
   "outputs": [],
   "source": []
  }
 ],
 "metadata": {
  "kernelspec": {
   "display_name": "Python 3 (ipykernel)",
   "language": "python",
   "name": "python3"
  },
  "language_info": {
   "codemirror_mode": {
    "name": "ipython",
    "version": 3
   },
   "file_extension": ".py",
   "mimetype": "text/x-python",
   "name": "python",
   "nbconvert_exporter": "python",
   "pygments_lexer": "ipython3",
   "version": "3.9.12"
  }
 },
 "nbformat": 4,
 "nbformat_minor": 2
}
