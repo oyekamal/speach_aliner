{
 "cells": [
  {
   "cell_type": "code",
   "execution_count": 2,
   "id": "922e0dbd",
   "metadata": {},
   "outputs": [
    {
     "data": {
      "text/plain": [
       "48"
      ]
     },
     "execution_count": 2,
     "metadata": {},
     "output_type": "execute_result"
    }
   ],
   "source": [
    "import cv2\n",
    "\n",
    "method = cv2.TM_SQDIFF_NORMED\n",
    "\n",
    "# Read the images from the file\n",
    "small_image = cv2.imread('aa.png')\n",
    "large_image = cv2.imread('aaa.png')\n",
    "\n",
    "result = cv2.matchTemplate(small_image, large_image, method)\n",
    "\n",
    "# We want the minimum squared difference\n",
    "mn,_,mnLoc,_ = cv2.minMaxLoc(result)\n",
    "\n",
    "# Draw the rectangle:\n",
    "# Extract the coordinates of our best match\n",
    "MPx,MPy = mnLoc\n",
    "\n",
    "# Step 2: Get the size of the template. This is the same size as the match.\n",
    "trows,tcols = small_image.shape[:2]\n",
    "\n",
    "# Step 3: Draw the rectangle on large_image\n",
    "cv2.rectangle(large_image, (MPx,MPy),(MPx+tcols,MPy+trows),(0,0,255),2)\n",
    "\n",
    "# Display the original image with the rectangle around the match.\n",
    "cv2.imshow('output',large_image)\n",
    "\n",
    "# The image is only displayed if we call this\n",
    "cv2.waitKey(0)"
   ]
  },
  {
   "cell_type": "code",
   "execution_count": null,
   "id": "dca9adc5",
   "metadata": {},
   "outputs": [],
   "source": []
  }
 ],
 "metadata": {
  "kernelspec": {
   "display_name": "Python 3 (ipykernel)",
   "language": "python",
   "name": "python3"
  },
  "language_info": {
   "codemirror_mode": {
    "name": "ipython",
    "version": 3
   },
   "file_extension": ".py",
   "mimetype": "text/x-python",
   "name": "python",
   "nbconvert_exporter": "python",
   "pygments_lexer": "ipython3",
   "version": "3.10.4"
  }
 },
 "nbformat": 4,
 "nbformat_minor": 5
}
