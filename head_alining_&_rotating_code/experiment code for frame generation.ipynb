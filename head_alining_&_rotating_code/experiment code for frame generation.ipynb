{
 "cells": [
  {
   "cell_type": "code",
   "execution_count": 1,
   "id": "0c6fc083",
   "metadata": {},
   "outputs": [],
   "source": [
    "from PIL import Image\n",
    "import numpy as np\n",
    "import statistics\n",
    "  \n"
   ]
  },
  {
   "cell_type": "code",
   "execution_count": 29,
   "id": "ae0df12e",
   "metadata": {},
   "outputs": [
    {
     "name": "stdout",
     "output_type": "stream",
     "text": [
      "85 202\n"
     ]
    }
   ],
   "source": [
    "# Load image, ensure not palettised, and make into Numpy array\n",
    "pim = Image.open('new face1.png').convert('RGB')\n",
    "im  = np.array(pim)\n",
    "\n",
    "# Define the blue colour we want to find - PIL uses RGB ordering\n",
    "blue = [253,250,230]\n",
    "\n",
    "# Get X and Y coordinates of all blue pixels\n",
    "Y, X = np.where(np.all(im==blue,axis=2))\n",
    "\n",
    "print(statistics.mean(X),statistics.mean(Y))"
   ]
  },
  {
   "cell_type": "code",
   "execution_count": 3,
   "id": "b3f91666",
   "metadata": {},
   "outputs": [
    {
     "name": "stdout",
     "output_type": "stream",
     "text": [
      "111 322\n"
     ]
    }
   ],
   "source": [
    "# Load image, ensure not palettised, and make into Numpy array\n",
    "pim = Image.open('new face1.png').convert('RGB')\n",
    "im  = np.array(pim)\n",
    "\n",
    "# Define the blue colour we want to find - PIL uses RGB ordering\n",
    "blue = [250,240,230]\n",
    "\n",
    "# Get X and Y coordinates of all blue pixels\n",
    "Y, X = np.where(np.all(im==blue,axis=2))\n",
    "\n",
    "print(statistics.mean(X),statistics.mean(Y))"
   ]
  },
  {
   "cell_type": "code",
   "execution_count": 4,
   "id": "e1c482b9",
   "metadata": {},
   "outputs": [
    {
     "data": {
      "text/plain": [
       "(array([211, 212, 213, 210, 211, 212, 213, 210, 211, 212, 213, 210, 211,\n",
       "        212, 213], dtype=int64),\n",
       " array([ 7,  7,  7,  8,  8,  8,  8,  9,  9,  9,  9, 10, 10, 10, 10],\n",
       "       dtype=int64))"
      ]
     },
     "execution_count": 4,
     "metadata": {},
     "output_type": "execute_result"
    }
   ],
   "source": [
    "# Load image, ensure not palettised, and make into Numpy array\n",
    "pim = Image.open('a.png').convert('RGB')\n",
    "im  = np.array(pim)\n",
    "\n",
    "# Define the blue colour we want to find - PIL uses RGB ordering\n",
    "blue = [164,64,64]\n",
    "\n",
    "# Get X and Y coordinates of all blue pixels\n",
    "Y, X = np.where(np.all(im==blue,axis=2))\n",
    "X,Y\n",
    "# print(statistics.mean(X),statistics.mean(Y))"
   ]
  },
  {
   "cell_type": "code",
   "execution_count": 5,
   "id": "97b3ef1d",
   "metadata": {},
   "outputs": [],
   "source": [
    "# Opening the primary image (used in background)\n",
    "face = Image.open(r\"new face1.png\")\n",
    "  \n",
    "# Opening the secondary image (overlay image)\n",
    "eye = Image.open(r\"sad.png\")\n",
    "eye = eye.resize((191,65))\n",
    "# Pasting img2 image on top of img1 \n",
    "# starting at coordinates (0, 0)\n",
    "face.paste(eye, (80,202), mask = eye)\n",
    "  \n",
    "# Displaying the image\n",
    "\n",
    "\n",
    "mouth = Image.open(r\"th.png\")\n",
    "mouth = mouth.resize((128,47))\n",
    "face.paste(mouth, (111,322), mask = mouth)\n",
    "face.show()\n",
    "\n",
    "face.save('new_G2.png')"
   ]
  },
  {
   "cell_type": "code",
   "execution_count": 6,
   "id": "2189ee4b",
   "metadata": {},
   "outputs": [],
   "source": [
    "# Opening the primary image (used in background)\n",
    "body = Image.open(r\"a.png\")\n",
    "  \n",
    "# Opening the secondary image (overlay image)\n",
    "face = face.resize((322,341))\n",
    "# Pasting img2 image on top of img1 \n",
    "# starting at coordinates (0, 0)\n",
    "body.paste(face, (212, 8), mask = face)\n",
    "  \n",
    "# Displaying the image\n",
    "body.show()\n",
    "body.save('new_G.png')"
   ]
  },
  {
   "cell_type": "code",
   "execution_count": 7,
   "id": "160bd154",
   "metadata": {},
   "outputs": [],
   "source": [
    "\n",
    "# Opening the primary image (used in background)\n",
    "body = Image.open(r\"a.png\")\n",
    "  \n",
    "# Opening the secondary image (overlay image)\n",
    "face = face.resize((322,341))\n",
    "face = face.rotate(5)\n",
    "# Pasting img2 image on top of img1 \n",
    "# starting at coordinates (0, 0)\n",
    "body.paste(face, (212, 8), mask = face)\n",
    "  \n",
    "# Displaying the image\n",
    "body.show()\n",
    "# body.save('new_G.png')"
   ]
  },
  {
   "cell_type": "code",
   "execution_count": 15,
   "id": "b68bc2ee",
   "metadata": {},
   "outputs": [
    {
     "name": "stdout",
     "output_type": "stream",
     "text": [
      "211 8\n"
     ]
    },
    {
     "data": {
      "text/plain": [
       "True"
      ]
     },
     "execution_count": 15,
     "metadata": {},
     "output_type": "execute_result"
    }
   ],
   "source": [
    "import cv2\n",
    "import numpy as np\n",
    "\n",
    "\n",
    "def image_overlay_second_method(back_img, img2, location, min_thresh=0, is_transparent=False):\n",
    "    h, w = back_img.shape[:2]\n",
    "    h1, w1 = img2.shape[:2]\n",
    "    x, y = location\n",
    "    roi = back_img[y:y + h1, x:x + w1]\n",
    "\n",
    "    gray = cv2.cvtColor(img2, cv2.COLOR_BGR2GRAY)\n",
    "    _, mask = cv2.threshold(gray, min_thresh, 255, cv2.THRESH_BINARY)\n",
    "    mask_inv = cv2.bitwise_not(mask)\n",
    "\n",
    "    img_bg = cv2.bitwise_and(roi, roi, mask=mask_inv)\n",
    "    img_fg = cv2.bitwise_and(img2, img2, mask=mask)\n",
    "    dst = cv2.add(img_bg, img_fg)\n",
    "    if is_transparent:\n",
    "        dst = cv2.addWeighted(back_img[y:y + h1, x:x + w1], 0.1, dst, 0.9, None)\n",
    "    back_img[y:y + h1, x:x + w1] = dst\n",
    "    return back_img\n",
    "\n",
    "\n",
    "\n",
    "face = cv2.imread('new face1.png', cv2.IMREAD_UNCHANGED)\n",
    "eyes = cv2.imread(\"sad.png\", cv2.IMREAD_UNCHANGED)\n",
    "# im  = np.array(face)\n",
    "\n",
    "scale_percent = 30 # percent of original size\n",
    "width = int(eyes.shape[1] * scale_percent / 100)\n",
    "height = int(eyes.shape[0] * scale_percent / 100)\n",
    "dim = (width, height)\n",
    "eyes = cv2.resize(eyes, dim, interpolation = cv2.INTER_AREA)\n",
    "\n",
    "# # Define the blue colour we want to find - PIL uses RGB ordering\n",
    "# blue = [250,240,230]\n",
    "\n",
    "# # Get X and Y coordinates of all blue pixels\n",
    "# Y, X = np.where(np.all(im==blue,axis=2))\n",
    "img_rgb = image_overlay_second_method(face, eyes, location=(80,202), min_thresh=0, is_transparent=True)\n",
    "print(statistics.mean(X),statistics.mean(Y))\n",
    "cv2.imwrite('new_eyes_added.png', img_rgb)\n"
   ]
  },
  {
   "cell_type": "code",
   "execution_count": 40,
   "id": "bd58753c",
   "metadata": {},
   "outputs": [],
   "source": [
    "from PIL import Image\n",
    "import numpy as np\n",
    "import statistics\n",
    "\n",
    "\n",
    "def adding_image(img_bg, img_fg, location, size = 30, rotation=0):\n",
    "    \n",
    "    \"\"\" PIL import image required not openCV \"\"\"\n",
    "    width, height = img_fg.size\n",
    "    scale_percent = size # percent of original size\n",
    "    width = int(width * scale_percent / 100)\n",
    "    height = int(height * scale_percent / 100)\n",
    "    dim = (width, height)\n",
    "    \n",
    "    \n",
    "    if rotation != 0:\n",
    "        img_fg = img_fg.rotate(rotation)\n",
    "        \n",
    "    img_fg = img_fg.resize(dim)\n",
    "    \n",
    "    \n",
    "\n",
    "\n",
    "    img_bg.paste(img_fg, location, mask = img_fg)\n",
    "    \n",
    "    return img_bg\n",
    "\n",
    "\n",
    "\n",
    "face = Image.open(r\"new face1.png\")\n",
    "\n",
    "eye = Image.open(r\"sad.png\")\n",
    "\n",
    "im  = np.array(face.convert('RGB'))\n",
    "\n",
    "# Define the blue colour we want to find - PIL uses RGB ordering\n",
    "blue = [253,250,230]\n",
    "\n",
    "# Get X and Y coordinates of all blue pixels\n",
    "Y, X = np.where(np.all(im==blue,axis=2))\n",
    "x, y=statistics.mean(X),statistics.mean(Y)\n",
    "\n",
    "new_image = adding_image(face, eye, location=(x,y), rotation=3)\n",
    "new_image.show()\n",
    "new_image.save('new_G.png')"
   ]
  },
  {
   "cell_type": "code",
   "execution_count": null,
   "id": "a2d55e5d",
   "metadata": {},
   "outputs": [],
   "source": []
  }
 ],
 "metadata": {
  "kernelspec": {
   "display_name": "Python 3 (ipykernel)",
   "language": "python",
   "name": "python3"
  },
  "language_info": {
   "codemirror_mode": {
    "name": "ipython",
    "version": 3
   },
   "file_extension": ".py",
   "mimetype": "text/x-python",
   "name": "python",
   "nbconvert_exporter": "python",
   "pygments_lexer": "ipython3",
   "version": "3.9.12"
  }
 },
 "nbformat": 4,
 "nbformat_minor": 5
}
