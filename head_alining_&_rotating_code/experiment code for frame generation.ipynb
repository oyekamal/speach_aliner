{
 "cells": [
  {
   "cell_type": "code",
   "execution_count": 3,
   "id": "0c6fc083",
   "metadata": {},
   "outputs": [],
   "source": [
    "from PIL import Image\n",
    "import numpy as np\n",
    "import statistics\n",
    "  \n"
   ]
  },
  {
   "cell_type": "code",
   "execution_count": 4,
   "id": "ae0df12e",
   "metadata": {},
   "outputs": [
    {
     "name": "stdout",
     "output_type": "stream",
     "text": [
      "85 202\n"
     ]
    }
   ],
   "source": [
    "# Load image, ensure not palettised, and make into Numpy array\n",
    "pim = Image.open('new face1.png').convert('RGB')\n",
    "im  = np.array(pim)\n",
    "\n",
    "# Define the blue colour we want to find - PIL uses RGB ordering\n",
    "blue = [253,250,230]\n",
    "\n",
    "# Get X and Y coordinates of all blue pixels\n",
    "Y, X = np.where(np.all(im==blue,axis=2))\n",
    "\n",
    "print(statistics.mean(X),statistics.mean(Y))"
   ]
  },
  {
   "cell_type": "code",
   "execution_count": 3,
   "id": "b3f91666",
   "metadata": {},
   "outputs": [
    {
     "name": "stdout",
     "output_type": "stream",
     "text": [
      "111 322\n"
     ]
    }
   ],
   "source": [
    "# Load image, ensure not palettised, and make into Numpy array\n",
    "pim = Image.open('new face1.png').convert('RGB')\n",
    "im  = np.array(pim)\n",
    "\n",
    "# Define the blue colour we want to find - PIL uses RGB ordering\n",
    "blue = [250,240,230]\n",
    "\n",
    "# Get X and Y coordinates of all blue pixels\n",
    "Y, X = np.where(np.all(im==blue,axis=2))\n",
    "\n",
    "print(statistics.mean(X),statistics.mean(Y))"
   ]
  },
  {
   "cell_type": "code",
   "execution_count": 4,
   "id": "e1c482b9",
   "metadata": {},
   "outputs": [
    {
     "data": {
      "text/plain": [
       "(array([211, 212, 213, 210, 211, 212, 213, 210, 211, 212, 213, 210, 211,\n",
       "        212, 213], dtype=int64),\n",
       " array([ 7,  7,  7,  8,  8,  8,  8,  9,  9,  9,  9, 10, 10, 10, 10],\n",
       "       dtype=int64))"
      ]
     },
     "execution_count": 4,
     "metadata": {},
     "output_type": "execute_result"
    }
   ],
   "source": [
    "# Load image, ensure not palettised, and make into Numpy array\n",
    "pim = Image.open('a.png').convert('RGB')\n",
    "im  = np.array(pim)\n",
    "\n",
    "# Define the blue colour we want to find - PIL uses RGB ordering\n",
    "blue = [164,64,64]\n",
    "\n",
    "# Get X and Y coordinates of all blue pixels\n",
    "Y, X = np.where(np.all(im==blue,axis=2))\n",
    "X,Y\n",
    "# print(statistics.mean(X),statistics.mean(Y))"
   ]
  },
  {
   "cell_type": "code",
   "execution_count": 5,
   "id": "97b3ef1d",
   "metadata": {},
   "outputs": [],
   "source": [
    "# Opening the primary image (used in background)\n",
    "face = Image.open(r\"new face1.png\")\n",
    "  \n",
    "# Opening the secondary image (overlay image)\n",
    "eye = Image.open(r\"sad.png\")\n",
    "eye = eye.resize((191,65))\n",
    "# Pasting img2 image on top of img1 \n",
    "# starting at coordinates (0, 0)\n",
    "face.paste(eye, (80,202), mask = eye)\n",
    "  \n",
    "# Displaying the image\n",
    "\n",
    "\n",
    "mouth = Image.open(r\"th.png\")\n",
    "mouth = mouth.resize((128,47))\n",
    "face.paste(mouth, (111,322), mask = mouth)\n",
    "face.show()\n",
    "\n",
    "face.save('new_G2.png')"
   ]
  },
  {
   "cell_type": "code",
   "execution_count": 6,
   "id": "2189ee4b",
   "metadata": {},
   "outputs": [],
   "source": [
    "# Opening the primary image (used in background)\n",
    "body = Image.open(r\"a.png\")\n",
    "  \n",
    "# Opening the secondary image (overlay image)\n",
    "face = face.resize((322,341))\n",
    "# Pasting img2 image on top of img1 \n",
    "# starting at coordinates (0, 0)\n",
    "body.paste(face, (212, 8), mask = face)\n",
    "  \n",
    "# Displaying the image\n",
    "body.show()\n",
    "body.save('new_G.png')"
   ]
  },
  {
   "cell_type": "code",
   "execution_count": 7,
   "id": "160bd154",
   "metadata": {},
   "outputs": [],
   "source": [
    "\n",
    "# Opening the primary image (used in background)\n",
    "body = Image.open(r\"a.png\")\n",
    "  \n",
    "# Opening the secondary image (overlay image)\n",
    "face = face.resize((322,341))\n",
    "face = face.rotate(5)\n",
    "# Pasting img2 image on top of img1 \n",
    "# starting at coordinates (0, 0)\n",
    "body.paste(face, (212, 8), mask = face)\n",
    "  \n",
    "# Displaying the image\n",
    "body.show()\n",
    "# body.save('new_G.png')"
   ]
  },
  {
   "cell_type": "code",
   "execution_count": null,
   "id": "b68bc2ee",
   "metadata": {},
   "outputs": [],
   "source": []
  }
 ],
 "metadata": {
  "kernelspec": {
   "display_name": "Python 3 (ipykernel)",
   "language": "python",
   "name": "python3"
  },
  "language_info": {
   "codemirror_mode": {
    "name": "ipython",
    "version": 3
   },
   "file_extension": ".py",
   "mimetype": "text/x-python",
   "name": "python",
   "nbconvert_exporter": "python",
   "pygments_lexer": "ipython3",
   "version": "3.10.4"
  }
 },
 "nbformat": 4,
 "nbformat_minor": 5
}
